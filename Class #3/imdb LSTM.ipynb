{
 "cells": [
  {
   "cell_type": "raw",
   "metadata": {},
   "source": [
    "# '''Trains a LSTM on the IMDB sentiment classification task.\n",
    "\n",
    "The dataset is actually too small for LSTM to be of any advantage\n",
    "compared to simpler, much faster methods such as TF-IDF+LogReg.\n",
    "\n",
    "Notes:\n",
    "\n",
    "- RNNs are tricky. Choice of batch size is important,\n",
    "choice of loss and optimizer is critical, etc.\n",
    "Some configurations won't converge.\n",
    "\n",
    "- LSTM loss decrease patterns during training can be quite different\n",
    "from what you see with CNNs/MLPs/etc.\n",
    "'''"
   ]
  },
  {
   "cell_type": "code",
   "execution_count": 1,
   "metadata": {
    "collapsed": true
   },
   "outputs": [],
   "source": [
    "from __future__ import print_function\n",
    "import numpy as np\n",
    "np.random.seed(1337)  # for reproducibility\n",
    " # Only use this line to show in jupyter\n",
    "%matplotlib inline\n",
    "import matplotlib.pyplot as plt"
   ]
  },
  {
   "cell_type": "code",
   "execution_count": 2,
   "metadata": {
    "collapsed": false
   },
   "outputs": [
    {
     "name": "stderr",
     "output_type": "stream",
     "text": [
      "Using Theano backend.\n"
     ]
    }
   ],
   "source": [
    "from keras.preprocessing import sequence\n",
    "from keras.utils import np_utils\n",
    "from keras.models import Sequential\n",
    "from keras.layers.core import Dense, Dropout, Activation\n",
    "from keras.layers.embeddings import Embedding\n",
    "from keras.layers.recurrent import LSTM, SimpleRNN, GRU\n",
    "from keras.datasets import imdb"
   ]
  },
  {
   "cell_type": "code",
   "execution_count": 3,
   "metadata": {
    "collapsed": true
   },
   "outputs": [],
   "source": [
    "max_features = 20000\n",
    "maxlen = 80  # cut texts after this number of words (among top max_features most common words)\n",
    "batch_size = 32"
   ]
  },
  {
   "cell_type": "code",
   "execution_count": 4,
   "metadata": {
    "collapsed": false
   },
   "outputs": [
    {
     "name": "stdout",
     "output_type": "stream",
     "text": [
      "Loading data...\n"
     ]
    }
   ],
   "source": [
    "print('Loading data...')\n",
    "(X_train, y_train), (X_test, y_test) = imdb.load_data(nb_words=max_features,\n",
    "                                                      test_split=0.2)"
   ]
  },
  {
   "cell_type": "code",
   "execution_count": 5,
   "metadata": {
    "collapsed": false
   },
   "outputs": [
    {
     "name": "stdout",
     "output_type": "stream",
     "text": [
      "20000 train sequences\n",
      "5000 test sequences\n",
      "[1, 20, 28, 716, 48, 495, 79, 27, 493, 8, 5067, 7, 50, 5, 4682, 13075, 10, 5, 852, 157, 11, 5, 1716, 3351, 10, 5, 500, 7308, 6, 33, 256, 41, 13610, 7, 17, 23, 48, 1537, 3504, 26, 269, 929, 18, 2, 7, 2, 4284, 8, 105, 5, 2, 182, 314, 38, 98, 103, 7, 36, 2184, 246, 360, 7, 19, 396, 17, 26, 269, 929, 18, 1769, 493, 6, 116, 7, 105, 5, 575, 182, 27, 5, 1002, 1085, 130, 62, 17, 24, 89, 17, 13, 381, 1421, 8, 5167, 7, 5, 2723, 38, 325, 7, 17, 23, 93, 9, 156, 252, 19, 235, 20, 28, 5, 104, 76, 7, 17, 169, 35, 14764, 17, 23, 1460, 7, 36, 2184, 934, 56, 2134, 6, 17, 891, 214, 11, 5, 1552, 6, 92, 6, 33, 256, 82, 7]\n",
      "[1, 19, 115, 9, 237, 61, 10, 167, 99, 119, 3001, 6, 8, 5, 1041, 1302, 219, 119, 2306, 11, 41, 42, 10, 5, 137, 7137, 26, 152, 119, 33, 66, 186, 7, 25, 159, 6, 19, 165, 266, 33, 66, 841, 72, 1388, 68, 19, 235, 11914, 10, 9344, 7, 5, 132, 24, 2, 5878, 6, 25, 3608, 11, 5, 8387, 12819, 2394, 1041, 639, 59, 18, 1163, 26, 197, 7, 53, 38, 9, 189, 3180, 110, 47, 95, 33, 290, 108, 1323, 2496, 6, 277, 33, 216, 36, 141, 81, 1431, 47, 540, 7, 5, 1683, 333, 326, 38, 3723, 6, 8, 25, 159, 6, 42, 10, 5, 9232, 7137, 10, 233, 18, 9, 1041, 840, 13, 1905, 7, 266, 6, 53, 38, 64, 183, 398, 52, 68, 9, 247, 228, 2, 47, 9, 2, 6, 56, 68, 5, 309, 123, 891, 39, 464, 11, 858, 18, 670, 11, 613, 9, 261, 37, 23, 652, 26, 9, 387, 10, 515, 6, 29, 468, 6, 17, 643, 75, 57, 36, 275, 33, 2744, 34, 5, 1877, 27, 2120, 6, 8, 19, 1124, 21, 9, 681, 1388, 7, 15, 16, 12, 14, 15, 16, 12, 14, 60, 19, 24, 697, 17, 34, 9, 185, 348, 2633, 110, 4230, 11, 1857, 2, 274, 119, 6, 19, 290, 257, 217, 17, 9, 544, 6, 295, 71, 9, 610, 7, 9, 168, 902, 21, 19, 216, 40, 11, 864, 54, 2341, 5, 390, 1041, 219, 28, 11, 94, 9, 65, 496, 6, 8, 19, 80, 461, 21, 20, 28, 230, 35, 194, 10, 64, 468, 512, 8896, 18, 1041, 219, 119, 7]\n"
     ]
    }
   ],
   "source": [
    "print(len(X_train), 'train sequences')\n",
    "print(len(X_test), 'test sequences')\n",
    "\n",
    "print(X_train[0])\n",
    "print(X_test[0])"
   ]
  },
  {
   "cell_type": "code",
   "execution_count": 6,
   "metadata": {
    "collapsed": false
   },
   "outputs": [
    {
     "name": "stdout",
     "output_type": "stream",
     "text": [
      "Pad sequences (samples x time)\n",
      "X_train shape: (20000, 80)\n",
      "X_test shape: (5000, 80)\n"
     ]
    }
   ],
   "source": [
    "print('Pad sequences (samples x time)')\n",
    "X_train = sequence.pad_sequences(X_train, maxlen=maxlen)\n",
    "X_test = sequence.pad_sequences(X_test, maxlen=maxlen)\n",
    "print('X_train shape:', X_train.shape)\n",
    "print('X_test shape:', X_test.shape)"
   ]
  },
  {
   "cell_type": "code",
   "execution_count": 7,
   "metadata": {
    "collapsed": false
   },
   "outputs": [
    {
     "name": "stdout",
     "output_type": "stream",
     "text": [
      "Build model...\n"
     ]
    }
   ],
   "source": [
    "print('Build model...')\n",
    "model = Sequential()\n",
    "model.add(Embedding(max_features, 256, input_length=maxlen, dropout=0.2))\n",
    "# http://keras.io/layers/recurrent/#lstm\n",
    "model.add(LSTM(256, dropout_W=0.2, dropout_U=0.2))  # try using a GRU instead, for fun\n",
    "# dropout_W: float between 0 and 1. Fraction of the input units to drop for input gates.\n",
    "# dropout_U: float between 0 and 1. Fraction of the input units to drop for recurrent connections.\n",
    "model.add(Dense(1))\n",
    "model.add(Activation('sigmoid'))\n",
    "\n",
    "# try using different optimizers and different optimizer configs\n",
    "model.compile(loss='binary_crossentropy',\n",
    "              optimizer='adam',\n",
    "              metrics=['accuracy'])"
   ]
  },
  {
   "cell_type": "code",
   "execution_count": 8,
   "metadata": {
    "collapsed": false
   },
   "outputs": [
    {
     "name": "stdout",
     "output_type": "stream",
     "text": [
      "____________________________________________________________________________________________________\n",
      "Layer (type)                       Output Shape        Param #     Connected to                     \n",
      "====================================================================================================\n",
      "embedding_1 (Embedding)            (None, 80, 256)     5120000     embedding_input_1[0][0]          \n",
      "____________________________________________________________________________________________________\n",
      "lstm_1 (LSTM)                      (None, 256)         525312      embedding_1[0][0]                \n",
      "____________________________________________________________________________________________________\n",
      "dense_1 (Dense)                    (None, 1)           257         lstm_1[0][0]                     \n",
      "____________________________________________________________________________________________________\n",
      "activation_1 (Activation)          (None, 1)           0           dense_1[0][0]                    \n",
      "====================================================================================================\n",
      "Total params: 5645569\n",
      "____________________________________________________________________________________________________\n",
      "None\n"
     ]
    }
   ],
   "source": [
    "# Lets explore the model\n",
    "# http://keras.io/models/about-keras-models/\n",
    "print(model.summary()) #  summary representation of your model"
   ]
  },
  {
   "cell_type": "code",
   "execution_count": 9,
   "metadata": {
    "collapsed": false
   },
   "outputs": [
    {
     "name": "stdout",
     "output_type": "stream",
     "text": [
      "Train...\n",
      "(20000, 80)\n",
      "(20000,)\n",
      "Train on 20000 samples, validate on 5000 samples\n",
      "Epoch 1/15\n",
      "20000/20000 [==============================] - 247s - loss: 0.6021 - acc: 0.6532 - val_loss: 0.5464 - val_acc: 0.7232\n",
      "Epoch 2/15\n",
      "20000/20000 [==============================] - 258s - loss: 0.4622 - acc: 0.7862 - val_loss: 0.4149 - val_acc: 0.8108\n",
      "Epoch 3/15\n",
      "20000/20000 [==============================] - 263s - loss: 0.3386 - acc: 0.8565 - val_loss: 0.3919 - val_acc: 0.8120\n",
      "Epoch 4/15\n",
      "20000/20000 [==============================] - 264s - loss: 0.2702 - acc: 0.8884 - val_loss: 0.4226 - val_acc: 0.8284\n",
      "Epoch 5/15\n",
      "20000/20000 [==============================] - 274s - loss: 0.2120 - acc: 0.9144 - val_loss: 0.4432 - val_acc: 0.8228\n",
      "Epoch 6/15\n",
      "20000/20000 [==============================] - 268s - loss: 0.1663 - acc: 0.9334 - val_loss: 0.4372 - val_acc: 0.8242\n",
      "Epoch 7/15\n",
      "20000/20000 [==============================] - 269s - loss: 0.1358 - acc: 0.9491 - val_loss: 0.5026 - val_acc: 0.8230\n",
      "Epoch 8/15\n",
      "20000/20000 [==============================] - 267s - loss: 0.1133 - acc: 0.9575 - val_loss: 0.5587 - val_acc: 0.8270\n",
      "Epoch 9/15\n",
      "20000/20000 [==============================] - 266s - loss: 0.0974 - acc: 0.9640 - val_loss: 0.5448 - val_acc: 0.8212\n",
      "Epoch 10/15\n",
      "20000/20000 [==============================] - 270s - loss: 0.0841 - acc: 0.9701 - val_loss: 0.5562 - val_acc: 0.8136\n",
      "Epoch 11/15\n",
      "20000/20000 [==============================] - 274s - loss: 0.0741 - acc: 0.9723 - val_loss: 0.6139 - val_acc: 0.8170\n",
      "Epoch 12/15\n",
      "20000/20000 [==============================] - 272s - loss: 0.0689 - acc: 0.9748 - val_loss: 0.5965 - val_acc: 0.8214\n",
      "Epoch 13/15\n",
      "20000/20000 [==============================] - 274s - loss: 0.0646 - acc: 0.9764 - val_loss: 0.7402 - val_acc: 0.8164\n",
      "Epoch 14/15\n",
      "20000/20000 [==============================] - 272s - loss: 0.0602 - acc: 0.9784 - val_loss: 0.7214 - val_acc: 0.8134\n",
      "Epoch 15/15\n",
      "20000/20000 [==============================] - 279s - loss: 0.0586 - acc: 0.9792 - val_loss: 0.7437 - val_acc: 0.8118\n"
     ]
    }
   ],
   "source": [
    "print('Train...')\n",
    "print(X_train.shape)\n",
    "print(y_train.shape)\n",
    "result = model.fit(X_train, y_train, batch_size=batch_size, nb_epoch=15,\n",
    "          validation_data=(X_test, y_test))"
   ]
  },
  {
   "cell_type": "code",
   "execution_count": 10,
   "metadata": {
    "collapsed": false
   },
   "outputs": [
    {
     "name": "stdout",
     "output_type": "stream",
     "text": [
      "5000/5000 [==============================] - 14s    \n",
      "Test score: 0.74500096693\n",
      "Test accuracy: 0.8104\n"
     ]
    }
   ],
   "source": [
    "score, acc = model.evaluate(X_test, y_test,batch_size=batch_size)\n",
    "print('Test score:', score)\n",
    "print('Test accuracy:', acc)"
   ]
  },
  {
   "cell_type": "code",
   "execution_count": 11,
   "metadata": {
    "collapsed": false
   },
   "outputs": [
    {
     "data": {
      "image/png": "[encoded data removed]",
      "text/plain": [
       "<matplotlib.figure.Figure at 0x112139748>"
      ]
     },
     "metadata": {},
     "output_type": "display_data"
    }
   ],
   "source": [
    "# plot the result\n",
    "plt.figure\n",
    "plt.plot(result.epoch,result.history['acc'],label=\"acc\")\n",
    "# plt.plot(result.epoch,result.history['val_acc'],label=\"val_acc\")\n",
    "plt.scatter(result.epoch,result.history['acc'],marker='*')\n",
    "# plt.scatter(result.epoch,result.history['val_acc'])\n",
    "plt.legend(loc='upper left')\n",
    "plt.show()"
   ]
  },
  {
   "cell_type": "code",
   "execution_count": 12,
   "metadata": {
    "collapsed": false
   },
   "outputs": [
    {
     "data": {
      "image/png": "[encoded data removed]",
      "text/plain": [
       "<matplotlib.figure.Figure at 0x106a960b8>"
      ]
     },
     "metadata": {},
     "output_type": "display_data"
    }
   ],
   "source": [
    "plt.figure\n",
    "plt.plot(result.epoch,result.history['loss'],label=\"loss\")\n",
    "# plt.plot(result.epoch,result.history['val_loss'],label=\"val_loss\")\n",
    "plt.scatter(result.epoch,result.history['loss'],marker='*')\n",
    "# plt.scatter(result.epoch,result.history['val_loss'],marker='*')\n",
    "plt.legend(loc='upper right')\n",
    "plt.show()"
   ]
  }
 ],
 "metadata": {
  "kernelspec": {
   "display_name": "Python 3",
   "language": "python",
   "name": "python3"
  },
  "language_info": {
   "codemirror_mode": {
    "name": "ipython",
    "version": 3
   },
   "file_extension": ".py",
   "mimetype": "text/x-python",
   "name": "python",
   "nbconvert_exporter": "python",
   "pygments_lexer": "ipython3",
   "version": "3.4.3"
  }
 },
 "nbformat": 4,
 "nbformat_minor": 0
}
